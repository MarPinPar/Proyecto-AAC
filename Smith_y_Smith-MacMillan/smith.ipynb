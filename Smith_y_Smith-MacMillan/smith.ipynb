{
 "cells": [
  {
   "cell_type": "code",
   "execution_count": null,
   "id": "5d345b38",
   "metadata": {
    "vscode": {
     "languageId": "plaintext"
    }
   },
   "outputs": [],
   "source": [
    "# --- Ejemplo de Uso en SageMath ---\n",
    "\n",
    "# Definición de la matriz de ejemplo\n",
    "# En SageMath, puedes definir una matriz directamente con sus elementos.\n",
    "# El dominio predeterminado para enteros es Z (integers), equivalente a ZZ en SymPy.\n",
    "mi_matriz = matrix(ZZ, [\n",
    "    [-1, -1, -1, 0, 0, 0, 0, 0, 0],\n",
    "    [1, 0, 0, -1, -1, 0, 0, 0, 0],\n",
    "    [0, 1, 0, 1, 0, -1, -1, 0, 0],\n",
    "    [0, 0, 1, 0, 1, 1, 0, -1, 0],\n",
    "    [0, 0, 0, 0, 0, 0, 1, 1, 0],\n",
    "    [0, 0, 0, 0, 0, 0, 0, 0, -1],\n",
    "    [0, 0, 0, 0, 0, 0, 0, 0, 1]\n",
    "])\n",
    "\n",
    "# Calcular la Forma Normal de Smith usando el método integrado de SageMath\n",
    "# El método .smith_form() retorna una tupla (D, U, V) donde:\n",
    "# D es la matriz en Forma Normal de Smith (diagonal con elementos d_i tales que d_i | d_{i+1})\n",
    "# U es la matriz de transformación para las filas (U * M = D' antes de V)\n",
    "# V es la matriz de transformación para las columnas (D' * V = D)\n",
    "# La relación es U * M * V = D\n",
    "# En la implementación anterior de SymPy, se retornaba (S, D, T) tal que S * M * T = D.\n",
    "# Así que, en este caso, U es nuestra 'S' y V es nuestra 'T'.\n",
    "D, S, T = mi_matriz.smith_form()\n",
    "\n",
    "# Imprimir los resultados\n",
    "print(\"Mi Matriz Original:\")\n",
    "print(mi_matriz)\n",
    "print(\"\\nMatriz en Forma Normal de Smith (D):\")\n",
    "print(D)\n",
    "print(\"\\nMatriz de Transformación S (para filas, U en Sage):\")\n",
    "print(S)\n",
    "print(\"\\nMatriz de Transformación T (para columnas, V en Sage):\")\n",
    "print(T)\n",
    "\n",
    "# Verificar la relación: S * Original * T = D\n",
    "print(\"\\nVerificación: S * Original * T = D\")\n",
    "print(S * mi_matriz * T)\n"
   ]
  }
 ],
 "metadata": {
  "language_info": {
   "name": "python"
  }
 },
 "nbformat": 4,
 "nbformat_minor": 5
}
